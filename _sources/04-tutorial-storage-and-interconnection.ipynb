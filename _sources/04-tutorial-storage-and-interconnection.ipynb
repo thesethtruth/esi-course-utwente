{
 "cells": [
  {
   "cell_type": "markdown",
   "metadata": {},
   "source": [
    "# 4 tutorial: Storage, dispatchable generation and interconnection"
   ]
  }
 ],
 "metadata": {
  "language_info": {
   "name": "python"
  }
 },
 "nbformat": 4,
 "nbformat_minor": 2
}
