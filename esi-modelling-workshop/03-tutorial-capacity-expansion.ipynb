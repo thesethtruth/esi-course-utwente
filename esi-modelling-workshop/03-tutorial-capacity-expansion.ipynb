{
 "cells": [
  {
   "cell_type": "markdown",
   "metadata": {},
   "source": [
    "# 3 tutorial: Capacity expansion"
   ]
  }
 ],
 "metadata": {
  "language_info": {
   "name": "python"
  }
 },
 "nbformat": 4,
 "nbformat_minor": 2
}
